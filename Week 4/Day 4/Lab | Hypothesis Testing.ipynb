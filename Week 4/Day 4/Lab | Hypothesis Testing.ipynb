{
 "cells": [
  {
   "cell_type": "markdown",
   "id": "0627beaf-35f0-4dfe-aa90-733b7066974c",
   "metadata": {
    "tags": []
   },
   "source": [
    "### Instructions\n",
    "1. It is assumed that the mean systolic blood pressure is μ = 120 mm Hg. In the Honolulu Heart Study, a sample of n = 100 people had an average systolic blood pressure of 130.1 mm Hg with a standard deviation of 21.21 mm Hg. Is the group significantly different (with respect to systolic blood pressure!) from the regular population?\n",
    "\n",
    "- Set up the hypothesis test.\n",
    "- Write down all the steps followed for setting up the test.\n",
    "- Calculate the test statistic by hand and also code it in Python. It should be 4.76190. What decision can you make based on this calculated value?"
   ]
  },
  {
   "cell_type": "code",
   "execution_count": 34,
   "id": "077cd94b-2142-4e03-9efe-54c54e454311",
   "metadata": {},
   "outputs": [],
   "source": [
    "import numpy as np\n",
    "import pandas as pd\n",
    "import scipy.stats as stats\n",
    "import matplotlib.pyplot as plt\n",
    "import seaborn as sns\n",
    "\n",
    "%matplotlib inline"
   ]
  },
  {
   "cell_type": "code",
   "execution_count": 35,
   "id": "467b76e8-03e4-47ca-994d-a7ea2c830013",
   "metadata": {},
   "outputs": [
    {
     "name": "stdout",
     "output_type": "stream",
     "text": [
      "Our z score is: 4.76\n"
     ]
    }
   ],
   "source": [
    "pop_mean = 120\n",
    "n_sample = 100  # 100 > 30 -> Normal distribution but we need the st_dev pf the population tu use the noormal dist test statistic\n",
    "sample_mean = 130.1\n",
    "sample_st_dev = 21.21\n",
    "\n",
    "z = ( sample_mean - pop_mean ) / ( sample_st_dev / np.sqrt(100) )\n",
    "print(\"Our z score is: {:.2f}\".format(z))\n",
    "\n"
   ]
  },
  {
   "cell_type": "code",
   "execution_count": 36,
   "id": "7a3a3554-bcde-4d69-b407-c04a7da14add",
   "metadata": {},
   "outputs": [
    {
     "name": "stdout",
     "output_type": "stream",
     "text": [
      "The critical value corresponding to a 0.95 area of a normal distribution is: 1.66\n",
      "The critical value corresponding to a 0.95 area of a normal distribution is: 2.08\n"
     ]
    }
   ],
   "source": [
    "# 0.95 is the confidence level.\n",
    "zc = stats.t.ppf(0.95, df=99)\n",
    "print(\"The critical value corresponding to a 0.95 area of a normal distribution is: {:.2f}\".format(zc))\n",
    "\n",
    "# confidence level risen up to 98%\n",
    "zc = stats.t.ppf(0.98, df=99)\n",
    "print(\"The critical value corresponding to a 0.95 area of a normal distribution is: {:.2f}\".format(zc))\n",
    "\n",
    "# We can reject the null hypotesis. The test statistic fall over the confidence level (z=4.76, zc=1.66)"
   ]
  },
  {
   "cell_type": "markdown",
   "id": "bd452a7c-e0e2-4099-ab55-46db0d4f2aed",
   "metadata": {},
   "source": [
    "## Optional\n",
    "2. In a packing plant, a machine packs cartons with jars. It is supposed that a new machine will pack faster on the average than the machine currently used. To test that hypothesis, the times it takes each machine to pack ten cartons are recorded. The results, in seconds, are shown in the tables in the file Data/machine.txt. Assume that there is sufficient evidence to conduct the t test, does the data provide sufficient evidence to show if one machine is better than the other.\n",
    "\n",
    "Hint: use two sample t-test\n",
    "\n",
    "t= (sample_mean(x1) - sample_mean(x2)) / sqrt(square(s1)/n1 + square(s2)/n2 )"
   ]
  },
  {
   "cell_type": "code",
   "execution_count": 52,
   "id": "c8d68a6c-1466-4d41-a75f-5ed196e665c5",
   "metadata": {},
   "outputs": [
    {
     "name": "stdout",
     "output_type": "stream",
     "text": [
      "42.14\n",
      "0.6483826030978941\n"
     ]
    }
   ],
   "source": [
    "new_machine = [42.1, 41, 41.3, 41.8, 42.4, 42.8, 43.2, 42.3, 41.8, 42.7]\n",
    "nm_mean = np.mean(new_machine)\n",
    "nm_st_dev = np.std(new_machine)\n",
    "print(nm_mean)\n",
    "print(nm_st_dev)"
   ]
  },
  {
   "cell_type": "code",
   "execution_count": 55,
   "id": "779958c5-0004-468f-8c7e-a9e9a897178a",
   "metadata": {},
   "outputs": [],
   "source": [
    "#df = pd.read_csv(\"Data/Data_Machine.txt\", sep=\"\\t\")"
   ]
  },
  {
   "cell_type": "code",
   "execution_count": 63,
   "id": "70ede56b-a15c-4582-91ef-371e5aea6ae5",
   "metadata": {},
   "outputs": [
    {
     "name": "stdout",
     "output_type": "stream",
     "text": [
      "43.24\n",
      "0.7102112361825873\n"
     ]
    }
   ],
   "source": [
    "old_machine = [42.7, 43.6, 43.8, 43.3, 42.5, 43.5, 43.2, 41.7, 44, 44.1]\n",
    "om_mean = np.mean(old_machine)\n",
    "om_st_dev = np.std(old_machine)\n",
    "print(om_mean)\n",
    "print(om_st_dev)"
   ]
  },
  {
   "cell_type": "code",
   "execution_count": 64,
   "id": "9726a0a0-5f42-4fe3-b78f-6122441f1d4b",
   "metadata": {},
   "outputs": [
    {
     "name": "stdout",
     "output_type": "stream",
     "text": [
      "Our t score is: -3.62\n"
     ]
    }
   ],
   "source": [
    "t = (nm_mean - om_mean) / np.sqrt(np.square(nm_st_dev)/len(new_machine) + np.square(om_st_dev)/len(old_machine) )\n",
    "print(\"Our t score is: {:.2f}\".format(t))"
   ]
  },
  {
   "cell_type": "code",
   "execution_count": null,
   "id": "8b8003b2-c1be-4613-a20f-9bc7836fd52f",
   "metadata": {},
   "outputs": [],
   "source": []
  }
 ],
 "metadata": {
  "kernelspec": {
   "display_name": "Python 3 (ipykernel)",
   "language": "python",
   "name": "python3"
  },
  "language_info": {
   "codemirror_mode": {
    "name": "ipython",
    "version": 3
   },
   "file_extension": ".py",
   "mimetype": "text/x-python",
   "name": "python",
   "nbconvert_exporter": "python",
   "pygments_lexer": "ipython3",
   "version": "3.9.13"
  }
 },
 "nbformat": 4,
 "nbformat_minor": 5
}
