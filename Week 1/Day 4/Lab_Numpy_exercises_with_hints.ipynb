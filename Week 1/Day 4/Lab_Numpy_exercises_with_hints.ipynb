{
 "cells": [
  {
   "cell_type": "markdown",
   "id": "b7ac5f6f",
   "metadata": {},
   "source": [
    "# numpy exercises\n",
    "\n",
    "This is a collection of exercises that have been collected in the numpy mailing list, on stack overflow\n",
    "and in the numpy documentation. The goal of this collection is to offer a quick reference for both old\n",
    "and new users but also to provide a set of exercises for those who teach.\n",
    "\n",
    "\n",
    "If you find an error or think you've a better way to solve some of them, feel\n",
    "free to open an issue at <https://github.com/rougier/numpy-100>.\n",
    "File automatically generated. See the documentation to update questions/answers/hints programmatically."
   ]
  },
  {
   "cell_type": "markdown",
   "id": "b82d7de1",
   "metadata": {},
   "source": [
    "#### 1. Import the numpy package under the name `np` (★☆☆)\n",
    "`hint: import … as`\n"
   ]
  },
  {
   "cell_type": "code",
   "execution_count": 3,
   "id": "465922e3",
   "metadata": {},
   "outputs": [],
   "source": [
    "import numpy as np"
   ]
  },
  {
   "cell_type": "markdown",
   "id": "765eb31a",
   "metadata": {},
   "source": [
    "#### 2. Create a null vector of size 10 (★☆☆)\n",
    "`hint: np.zeros`"
   ]
  },
  {
   "cell_type": "code",
   "execution_count": 4,
   "id": "43ae3b10",
   "metadata": {},
   "outputs": [
    {
     "data": {
      "text/plain": [
       "array([0., 0., 0., 0., 0., 0., 0., 0., 0., 0.])"
      ]
     },
     "execution_count": 4,
     "metadata": {},
     "output_type": "execute_result"
    }
   ],
   "source": [
    "np.zeros(10)"
   ]
  },
  {
   "cell_type": "markdown",
   "id": "a9eef42b",
   "metadata": {},
   "source": [
    "#### 3. Create a null vector of size 10 but the fifth value which is 1 (★☆☆)\n",
    "`hint: array[4]`"
   ]
  },
  {
   "cell_type": "code",
   "execution_count": 5,
   "id": "8b2ff632",
   "metadata": {},
   "outputs": [
    {
     "name": "stdout",
     "output_type": "stream",
     "text": [
      "[0. 0. 0. 0. 1. 0. 0. 0. 0. 0.]\n"
     ]
    }
   ],
   "source": [
    "a = np.zeros(10)\n",
    "a[4] = 1\n",
    "print(a)"
   ]
  },
  {
   "cell_type": "markdown",
   "id": "18dd3745",
   "metadata": {},
   "source": [
    "#### 4. Create a vector with values ranging from 10 to 49 (★☆☆)\n",
    "`hint: arange`"
   ]
  },
  {
   "cell_type": "code",
   "execution_count": 6,
   "id": "7ae14821",
   "metadata": {},
   "outputs": [
    {
     "data": {
      "text/plain": [
       "array([10, 11, 12, 13, 14, 15, 16, 17, 18, 19, 20, 21, 22, 23, 24, 25, 26,\n",
       "       27, 28, 29, 30, 31, 32, 33, 34, 35, 36, 37, 38, 39, 40, 41, 42, 43,\n",
       "       44, 45, 46, 47, 48, 49])"
      ]
     },
     "execution_count": 6,
     "metadata": {},
     "output_type": "execute_result"
    }
   ],
   "source": [
    "a = np.arange(10, 50)\n",
    "a"
   ]
  },
  {
   "cell_type": "markdown",
   "id": "f3ccbd59",
   "metadata": {},
   "source": [
    "#### 5. Create a 3x3 matrix with values ranging from 0 to 8 (★☆☆)\n",
    "`hint: reshape`"
   ]
  },
  {
   "cell_type": "code",
   "execution_count": 7,
   "id": "425d2495",
   "metadata": {},
   "outputs": [
    {
     "data": {
      "text/plain": [
       "array([[0, 1, 2],\n",
       "       [3, 4, 5],\n",
       "       [6, 7, 8]])"
      ]
     },
     "execution_count": 7,
     "metadata": {},
     "output_type": "execute_result"
    }
   ],
   "source": [
    "a = np.arange(9).reshape(3,3)\n",
    "a"
   ]
  },
  {
   "cell_type": "markdown",
   "id": "f36a676f",
   "metadata": {},
   "source": [
    "#### 6. Find indices of non-zero elements from [1,2,0,0,4,0] (★☆☆)\n",
    "`hint: np.nonzero`"
   ]
  },
  {
   "cell_type": "code",
   "execution_count": 8,
   "id": "e6447474",
   "metadata": {},
   "outputs": [
    {
     "data": {
      "text/plain": [
       "(array([0, 1, 4]),)"
      ]
     },
     "execution_count": 8,
     "metadata": {},
     "output_type": "execute_result"
    }
   ],
   "source": [
    "a = np.array((1,2,0,0,4,0))\n",
    "np.nonzero(a)"
   ]
  },
  {
   "cell_type": "markdown",
   "id": "2f2c09be",
   "metadata": {},
   "source": [
    "#### 7. Create a 3x3 identity matrix (★☆☆)\n",
    "`hint: np.eye`"
   ]
  },
  {
   "cell_type": "code",
   "execution_count": 9,
   "id": "f89ac24b",
   "metadata": {},
   "outputs": [
    {
     "data": {
      "text/plain": [
       "array([[1., 0., 0.],\n",
       "       [0., 1., 0.],\n",
       "       [0., 0., 1.]])"
      ]
     },
     "execution_count": 9,
     "metadata": {},
     "output_type": "execute_result"
    }
   ],
   "source": [
    "np.eye(3)"
   ]
  },
  {
   "cell_type": "markdown",
   "id": "82d8c5bd",
   "metadata": {},
   "source": [
    "#### 8. Create a 3x3x3 array with random values (★☆☆)\n",
    "`hint: np.random.random`"
   ]
  },
  {
   "cell_type": "code",
   "execution_count": 10,
   "id": "42a2da3b",
   "metadata": {},
   "outputs": [
    {
     "data": {
      "text/plain": [
       "array([[[0.38540542, 0.60399322, 0.49586938],\n",
       "        [0.02583071, 0.12911631, 0.98052356],\n",
       "        [0.0188656 , 0.76731271, 0.15868493]],\n",
       "\n",
       "       [[0.49847835, 0.94070674, 0.83985367],\n",
       "        [0.48218771, 0.83025136, 0.10771496],\n",
       "        [0.63418329, 0.01999848, 0.01484717]],\n",
       "\n",
       "       [[0.48290096, 0.53168212, 0.5733382 ],\n",
       "        [0.99682496, 0.50605407, 0.86211996],\n",
       "        [0.56594848, 0.20454107, 0.44028515]]])"
      ]
     },
     "execution_count": 10,
     "metadata": {},
     "output_type": "execute_result"
    }
   ],
   "source": [
    "np.random.random([3,3,3])"
   ]
  },
  {
   "cell_type": "markdown",
   "id": "8bde3243",
   "metadata": {},
   "source": [
    "#### 9. Create a 10x10 array with random values and find the minimum and maximum values (★☆☆)\n",
    "`hint: min, max`"
   ]
  },
  {
   "cell_type": "code",
   "execution_count": 11,
   "id": "7b090228",
   "metadata": {
    "scrolled": true
   },
   "outputs": [
    {
     "name": "stdout",
     "output_type": "stream",
     "text": [
      "[0.13891275 0.91343154 0.46605779 0.47596029 0.3698618  0.87591808\n",
      " 0.15693483 0.90260172 0.71055601 0.62334306 0.91899111 0.88947829\n",
      " 0.27600863 0.20017842 0.26594185 0.16315488 0.85205513 0.58936608\n",
      " 0.84050857 0.4394944  0.12936409 0.347871   0.69749981 0.93769667\n",
      " 0.17908752 0.34389141 0.35396655 0.35536576 0.8039513  0.85694185\n",
      " 0.01617895 0.99906417 0.41160499 0.09561189 0.82033731 0.53708365\n",
      " 0.4394939  0.82439192 0.67575791 0.24451388 0.63070521 0.9087453\n",
      " 0.28670687 0.08486831 0.3070325  0.59706971 0.86499587 0.57407452\n",
      " 0.34036576 0.80709119 0.51966238 0.36582984 0.98695627 0.01811804\n",
      " 0.55309139 0.19718528 0.71422342 0.32119578 0.10316927 0.2549298\n",
      " 0.05093025 0.57778969 0.05140461 0.47391816 0.57892079 0.06870125\n",
      " 0.89557117 0.19982919 0.83469784 0.05005071 0.49188679 0.37489888\n",
      " 0.13907044 0.16348088 0.52283214 0.55022545 0.24183451 0.78649885\n",
      " 0.57179732 0.29076994 0.12913265 0.00912292 0.10655927 0.98585449\n",
      " 0.10285533 0.27314943 0.62300818 0.88061895 0.20009231 0.11301185\n",
      " 0.96751744 0.53958268 0.66728797 0.42253594 0.84826818 0.26825491\n",
      " 0.67586559 0.22260317 0.0659865  0.44303642]\n",
      "0.009122918348060782\n",
      "0.9990641685766571\n"
     ]
    }
   ],
   "source": [
    "a = np.random.random(100)\n",
    "print(a)\n",
    "\n",
    "print(min(a))\n",
    "print(max(a))"
   ]
  },
  {
   "cell_type": "markdown",
   "id": "8d4e7eb4",
   "metadata": {},
   "source": [
    "#### 10. Create a random vector of size 30 and find the mean value (★☆☆)\n",
    "`hint: mean`"
   ]
  },
  {
   "cell_type": "code",
   "execution_count": 12,
   "id": "b0122f85",
   "metadata": {},
   "outputs": [
    {
     "name": "stdout",
     "output_type": "stream",
     "text": [
      "[0.78223739 0.97196763 0.52452276 0.92788158 0.20588659 0.38325423\n",
      " 0.55700458 0.39219971 0.65504545 0.88917566 0.38036631 0.35495289\n",
      " 0.05180336 0.33024622 0.55052354 0.5542669  0.13936672 0.52775567\n",
      " 0.19118598 0.44454769 0.98988365 0.04047078 0.54337113 0.14316134\n",
      " 0.18113375 0.44215194 0.648105   0.48954482 0.93675631 0.2055246 ]\n"
     ]
    },
    {
     "data": {
      "text/plain": [
       "0.48114313899012673"
      ]
     },
     "execution_count": 12,
     "metadata": {},
     "output_type": "execute_result"
    }
   ],
   "source": [
    "a = np.random.random(30)\n",
    "print(a)\n",
    "\n",
    "np.mean(a)"
   ]
  },
  {
   "cell_type": "markdown",
   "id": "2304f368",
   "metadata": {},
   "source": [
    "#### 11. Create a 5x5 matrix with values 1,2,3,4 just below the diagonal (★☆☆)\n",
    "`hint: np.diag`"
   ]
  },
  {
   "cell_type": "code",
   "execution_count": 13,
   "id": "c0b65640",
   "metadata": {},
   "outputs": [
    {
     "data": {
      "text/plain": [
       "array([[0, 0, 0, 0, 0],\n",
       "       [1, 0, 0, 0, 0],\n",
       "       [0, 2, 0, 0, 0],\n",
       "       [0, 0, 3, 0, 0],\n",
       "       [0, 0, 0, 4, 0]])"
      ]
     },
     "execution_count": 13,
     "metadata": {},
     "output_type": "execute_result"
    }
   ],
   "source": [
    "a = np.diag([1,2,3,4], k=-1)\n",
    "a"
   ]
  },
  {
   "cell_type": "markdown",
   "id": "761942ec",
   "metadata": {},
   "source": [
    "#### 12. Normalize a 5x5 random matrix (★☆☆)\n",
    "`hint: (x -mean)/std`"
   ]
  },
  {
   "cell_type": "code",
   "execution_count": 14,
   "id": "a1f4f55a",
   "metadata": {},
   "outputs": [
    {
     "name": "stdout",
     "output_type": "stream",
     "text": [
      "[[90 58 28 23  3]\n",
      " [77 42  5 18 92]\n",
      " [84 62 57 75 70]\n",
      " [26 91 16 91 84]\n",
      " [54 37 30 69 53]]\n",
      "[[ 1.29458811  0.16270779 -0.89843    -1.0752863  -1.78271149]\n",
      " [ 0.83476173 -0.40323236 -1.71196897 -1.25214259  1.36533062]\n",
      " [ 1.08236055  0.30419283  0.12733653  0.76401921  0.58716291]\n",
      " [-0.96917252  1.32995937 -1.32288511  1.32995937  1.08236055]\n",
      " [ 0.02122276 -0.58008866 -0.82768748  0.55179165 -0.0141485 ]]\n"
     ]
    }
   ],
   "source": [
    "a = np.random.randint(100, size=25).reshape(5,5)\n",
    "\n",
    "print(a)\n",
    "\n",
    "normalized = (a - np.mean(a))/(np.std(a))\n",
    "\n",
    "print(normalized)"
   ]
  },
  {
   "cell_type": "markdown",
   "id": "fbc3ec73",
   "metadata": {},
   "source": [
    "\n",
    "#### 13. How to find common values between two arrays? (★☆☆)\n",
    "`hint: np.intersect1d`\n"
   ]
  },
  {
   "cell_type": "code",
   "execution_count": 15,
   "id": "3f7da2af",
   "metadata": {},
   "outputs": [
    {
     "name": "stdout",
     "output_type": "stream",
     "text": [
      "[[72 85 71 25 10]\n",
      " [13 95 79 75 56]\n",
      " [83 23 33  2 31]\n",
      " [ 2 86 44 57 81]\n",
      " [ 4 67 39 80 53]]\n",
      "[[46 87 98 22 77]\n",
      " [37 73 26 34 79]\n",
      " [ 5 77 73 94 78]\n",
      " [68 91 68 32 32]\n",
      " [42 47 44 58 90]]\n"
     ]
    },
    {
     "data": {
      "text/plain": [
       "array([44, 79])"
      ]
     },
     "execution_count": 15,
     "metadata": {},
     "output_type": "execute_result"
    }
   ],
   "source": [
    "a = np.random.randint(100, size=25).reshape(5,5)\n",
    "print(a)\n",
    "b = np.random.randint(100, size=25).reshape(5,5)\n",
    "print(b)\n",
    "\n",
    "np.intersect1d(a,b)"
   ]
  },
  {
   "cell_type": "markdown",
   "id": "e90beb94",
   "metadata": {},
   "source": [
    "#### 14. Create a random vector of size 10 and sort it (★★☆)\n",
    "`hint: sort`"
   ]
  },
  {
   "cell_type": "code",
   "execution_count": 16,
   "id": "a05f985c",
   "metadata": {},
   "outputs": [
    {
     "data": {
      "text/plain": [
       "array([11, 30, 40, 45, 45, 51, 65, 76, 92, 96])"
      ]
     },
     "execution_count": 16,
     "metadata": {},
     "output_type": "execute_result"
    }
   ],
   "source": [
    "a = np.random.randint(100, size=10)\n",
    "a\n",
    "\n",
    "np.sort(a)"
   ]
  },
  {
   "cell_type": "markdown",
   "id": "dae98895",
   "metadata": {},
   "source": [
    "#### 15. Create random vector of size 10 and replace the maximum value by 0 (★★☆)\n",
    "`hint: argmax`"
   ]
  },
  {
   "cell_type": "code",
   "execution_count": 17,
   "id": "2deb153e",
   "metadata": {},
   "outputs": [
    {
     "name": "stdout",
     "output_type": "stream",
     "text": [
      "[79 90 29 15 84 97  0 33 85 80]\n"
     ]
    }
   ],
   "source": [
    "a = np.random.randint(100, size=10)\n",
    "\n",
    "a[a == max(a)] = 0\n",
    "\n",
    "print(a)"
   ]
  },
  {
   "cell_type": "markdown",
   "id": "e8b990ec",
   "metadata": {},
   "source": [
    "\n",
    "#### 16. Subtract the mean of each row of a matrix (★★☆)\n",
    "`hint: mean(axis=,keepdims=)`"
   ]
  },
  {
   "cell_type": "code",
   "execution_count": 18,
   "id": "69905079",
   "metadata": {},
   "outputs": [
    {
     "name": "stdout",
     "output_type": "stream",
     "text": [
      "[[47 45 17 11 86]\n",
      " [60 69 79 18 30]\n",
      " [19 47 88 87  4]\n",
      " [ 2 14 38  4 85]\n",
      " [66 66 63 25 65]]\n",
      "[[41.2]\n",
      " [51.2]\n",
      " [49. ]\n",
      " [28.6]\n",
      " [57. ]]\n",
      "[[  5.8   3.8 -24.2 -30.2  44.8]\n",
      " [  8.8  17.8  27.8 -33.2 -21.2]\n",
      " [-30.   -2.   39.   38.  -45. ]\n",
      " [-26.6 -14.6   9.4 -24.6  56.4]\n",
      " [  9.    9.    6.  -32.    8. ]]\n"
     ]
    }
   ],
   "source": [
    "a = np.random.randint(100, size=25).reshape(5,5)\n",
    "print(a)\n",
    "\n",
    "x = np.mean(a, axis=1, keepdims=True)\n",
    "print(x)\n",
    "\n",
    "sub = (a - x)\n",
    "print(sub)"
   ]
  },
  {
   "cell_type": "markdown",
   "id": "6c684711",
   "metadata": {},
   "source": [
    "\n",
    "\n",
    "#### 17. How to get the n largest values of an array (★★★)\n",
    "`Z = np.arange(10000)\n",
    "np.random.shuffle(Z)\n",
    "n = 5\n",
    "hint: np.argsort | np.argpartition`"
   ]
  },
  {
   "cell_type": "code",
   "execution_count": 26,
   "id": "4a250dc1",
   "metadata": {},
   "outputs": [
    {
     "data": {
      "text/plain": [
       "array([9912, 4772, 7373, ..., 5520, 2848, 1984])"
      ]
     },
     "execution_count": 26,
     "metadata": {},
     "output_type": "execute_result"
    }
   ],
   "source": [
    "a = np.arange(10000)\n",
    "np.random.shuffle(a)\n",
    "n = 5\n",
    "a"
   ]
  },
  {
   "cell_type": "markdown",
   "id": "186604d2",
   "metadata": {},
   "source": [
    "\n",
    "\n",
    "#### 18. Create a random 5*3 matrix and replace items that are larger than 4 by their squares ( Example:  6 --> 36) \n",
    "`hint: np.where`\n"
   ]
  },
  {
   "cell_type": "code",
   "execution_count": 20,
   "id": "9567da9e",
   "metadata": {},
   "outputs": [
    {
     "ename": "TypeError",
     "evalue": "NumPy boolean array indexing assignment requires a 0 or 1-dimensional input, input has 2 dimensions",
     "output_type": "error",
     "traceback": [
      "\u001b[0;31m---------------------------------------------------------------------------\u001b[0m",
      "\u001b[0;31mTypeError\u001b[0m                                 Traceback (most recent call last)",
      "\u001b[0;32m/var/folders/b5/6jnrgrdn769_zhfz2sdxb88c0000gn/T/ipykernel_4799/2312889153.py\u001b[0m in \u001b[0;36m<module>\u001b[0;34m\u001b[0m\n\u001b[1;32m      2\u001b[0m \u001b[0ma\u001b[0m\u001b[0;34m\u001b[0m\u001b[0;34m\u001b[0m\u001b[0m\n\u001b[1;32m      3\u001b[0m \u001b[0;34m\u001b[0m\u001b[0m\n\u001b[0;32m----> 4\u001b[0;31m \u001b[0ma\u001b[0m\u001b[0;34m[\u001b[0m\u001b[0ma\u001b[0m \u001b[0;34m>\u001b[0m \u001b[0;36m4\u001b[0m\u001b[0;34m]\u001b[0m \u001b[0;34m=\u001b[0m \u001b[0;34m(\u001b[0m\u001b[0;34m(\u001b[0m\u001b[0ma\u001b[0m \u001b[0;34m>\u001b[0m \u001b[0;36m4\u001b[0m\u001b[0;34m)\u001b[0m\u001b[0;34m**\u001b[0m\u001b[0;36m2\u001b[0m\u001b[0;34m)\u001b[0m\u001b[0;34m\u001b[0m\u001b[0;34m\u001b[0m\u001b[0m\n\u001b[0m",
      "\u001b[0;31mTypeError\u001b[0m: NumPy boolean array indexing assignment requires a 0 or 1-dimensional input, input has 2 dimensions"
     ]
    }
   ],
   "source": [
    "a = np.random.randint(100, size=15).reshape(5,3)\n",
    "a\n",
    "\n",
    "a[a > 4] = ((a > 4)**2)"
   ]
  },
  {
   "cell_type": "code",
   "execution_count": null,
   "id": "36588c23",
   "metadata": {},
   "outputs": [],
   "source": []
  },
  {
   "cell_type": "code",
   "execution_count": null,
   "id": "1f3b644b",
   "metadata": {},
   "outputs": [],
   "source": []
  }
 ],
 "metadata": {
  "kernelspec": {
   "display_name": "Python 3 (ipykernel)",
   "language": "python",
   "name": "python3"
  },
  "language_info": {
   "codemirror_mode": {
    "name": "ipython",
    "version": 3
   },
   "file_extension": ".py",
   "mimetype": "text/x-python",
   "name": "python",
   "nbconvert_exporter": "python",
   "pygments_lexer": "ipython3",
   "version": "3.9.13"
  }
 },
 "nbformat": 4,
 "nbformat_minor": 5
}
